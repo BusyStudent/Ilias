{
 "cells": [
  {
   "cell_type": "code",
   "execution_count": 1,
   "id": "6348dece-491b-41e1-afcf-873441b270bd",
   "metadata": {},
   "outputs": [],
   "source": [
    "import pandas as pd\n",
    "import numpy as np"
   ]
  },
  {
   "cell_type": "code",
   "execution_count": 72,
   "id": "927f6e52-f749-45f8-b85d-3de28fba2845",
   "metadata": {},
   "outputs": [
    {
     "name": "stdout",
     "output_type": "stream",
     "text": [
      "    Index        Header Name Header Value\n",
      "0       1         :authority          NaN\n",
      "1       2            :method          GET\n",
      "2       3            :method         POST\n",
      "3       4              :path            /\n",
      "4       5              :path  /index.html\n",
      "..    ...                ...          ...\n",
      "56     57  transfer-encoding          NaN\n",
      "57     58         user-agent          NaN\n",
      "58     59               vary          NaN\n",
      "59     60                via          NaN\n",
      "60     61   www-authenticate          NaN\n",
      "\n",
      "[61 rows x 3 columns]\n"
     ]
    }
   ],
   "source": [
    "df = pd.read_csv(\"staticHeaders.csv\", sep='|', skipinitialspace=True)\n",
    "df = df.drop(columns=[\"Unnamed: 0\",'Unnamed: 4'])\n",
    "df.columns = df.columns.str.strip()\n",
    "for column in df.columns:\n",
    "    if df[column].dtype == 'object':\n",
    "        df[column] = df[column].str.strip()\n",
    "print(df)"
   ]
  },
  {
   "cell_type": "code",
   "execution_count": 74,
   "id": "2325d92b-6ad7-46a0-a343-1ec5be19990b",
   "metadata": {},
   "outputs": [
    {
     "name": "stdout",
     "output_type": "stream",
     "text": [
      "{\":authority\", \"\"},{\":method\", \"GET\"},{\":method\", \"POST\"},{\":path\", \"/\"},{\":path\", \"/index.html\"},{\":scheme\", \"http\"},{\":scheme\", \"https\"},{\":status\", \"200\"},{\":status\", \"204\"},{\":status\", \"206\"},{\":status\", \"304\"},{\":status\", \"400\"},{\":status\", \"404\"},{\":status\", \"500\"},{\"accept-charset\", \"\"},{\"accept-encoding\", \"gzip, deflate\"},{\"accept-language\", \"\"},{\"accept-ranges\", \"\"},{\"accept\", \"\"},{\"access-control-allow-origin\", \"\"},{\"age\", \"\"},{\"allow\", \"\"},{\"authorization\", \"\"},{\"cache-control\", \"\"},{\"content-disposition\", \"\"},{\"content-encoding\", \"\"},{\"content-language\", \"\"},{\"content-length\", \"\"},{\"content-location\", \"\"},{\"content-range\", \"\"},{\"content-type\", \"\"},{\"cookie\", \"\"},{\"date\", \"\"},{\"etag\", \"\"},{\"expect\", \"\"},{\"expires\", \"\"},{\"from\", \"\"},{\"host\", \"\"},{\"if-match\", \"\"},{\"if-modified-since\", \"\"},{\"if-none-match\", \"\"},{\"if-range\", \"\"},{\"if-unmodified-since\", \"\"},{\"last-modified\", \"\"},{\"link\", \"\"},{\"location\", \"\"},{\"max-forwards\", \"\"},{\"proxy-authenticate\", \"\"},{\"proxy-authorization\", \"\"},{\"range\", \"\"},{\"referer\", \"\"},{\"refresh\", \"\"},{\"retry-after\", \"\"},{\"server\", \"\"},{\"set-cookie\", \"\"},{\"strict-transport-security\", \"\"},{\"transfer-encoding\", \"\"},{\"user-agent\", \"\"},{\"vary\", \"\"},{\"via\", \"\"},{\"www-authenticate\", \"\"},\n"
     ]
    }
   ],
   "source": [
    "output_str = \"\"\n",
    "for i in range(df.shape[0]):\n",
    "    row = df.iloc[i]\n",
    "    key = str(row.iloc[1])\n",
    "    value = str(\"\" if row.iloc[2] is np.nan else row.iloc[2])\n",
    "    output_str += \"{\" + f'\"{key}\", \"{value}\"' + \"},\"\n",
    "print(output_str)"
   ]
  },
  {
   "cell_type": "code",
   "execution_count": 125,
   "id": "c30e3fc1-4db6-47bc-899c-5e298afd29fa",
   "metadata": {},
   "outputs": [
    {
     "name": "stdout",
     "output_type": "stream",
     "text": [
      "0 6 <re.Match object; span=(0, 6), match='|-----'>\n",
      "6 13 <re.Match object; span=(6, 13), match='|------'>\n",
      "13 52 <re.Match object; span=(13, 52), match='|--------------------------------------'>\n",
      "52 62 <re.Match object; span=(52, 62), match='|---------'>\n",
      "62 68 <re.Match object; span=(62, 68), match='|-----'>\n"
     ]
    }
   ],
   "source": [
    "import re\n",
    "\n",
    "split_line_pat = r\"\\|\\-+\"\n",
    "\n",
    "with open(\"staticHuffman.txt\", 'r') as f:\n",
    "    datas = []\n",
    "    value_lens = []\n",
    "    while ((line := f.readline()) != \"\"):\n",
    "        matchs = re.finditer(split_line_pat, line)\n",
    "        i = 0\n",
    "        for span in value_lens:\n",
    "            datas[i].append(line[span[0]:span[1]])\n",
    "            i+=1\n",
    "        for match in matchs:\n",
    "            print(match.span()[0], match.span()[1], match)\n",
    "            value_lens.append((match.span()[0], match.span()[1]))\n",
    "            datas.append(list())\n",
    "df = pd.DataFrame(datas)        "
   ]
  },
  {
   "cell_type": "code",
   "execution_count": 127,
   "id": "0d4cbb6a-8ab6-4b8b-9f1b-34f65f7ac79a",
   "metadata": {},
   "outputs": [],
   "source": [
    "df = df.transpose()"
   ]
  },
  {
   "cell_type": "code",
   "execution_count": 130,
   "id": "6aa59cff-bc96-4003-8c39-77895806eea4",
   "metadata": {},
   "outputs": [],
   "source": [
    "for column in df.columns:\n",
    "    if df[column].dtype == 'object':\n",
    "        df[column] = df[column].str.strip()"
   ]
  },
  {
   "cell_type": "code",
   "execution_count": 131,
   "id": "6de61475-da32-44b5-9666-7d7e71ec9fb7",
   "metadata": {},
   "outputs": [
    {
     "data": {
      "text/html": [
       "<div>\n",
       "<style scoped>\n",
       "    .dataframe tbody tr th:only-of-type {\n",
       "        vertical-align: middle;\n",
       "    }\n",
       "\n",
       "    .dataframe tbody tr th {\n",
       "        vertical-align: top;\n",
       "    }\n",
       "\n",
       "    .dataframe thead th {\n",
       "        text-align: right;\n",
       "    }\n",
       "</style>\n",
       "<table border=\"1\" class=\"dataframe\">\n",
       "  <thead>\n",
       "    <tr style=\"text-align: right;\">\n",
       "      <th></th>\n",
       "      <th>0</th>\n",
       "      <th>1</th>\n",
       "      <th>2</th>\n",
       "      <th>3</th>\n",
       "      <th>4</th>\n",
       "    </tr>\n",
       "  </thead>\n",
       "  <tbody>\n",
       "    <tr>\n",
       "      <th>0</th>\n",
       "      <td></td>\n",
       "      <td>(  0)</td>\n",
       "      <td>|11111111|11000</td>\n",
       "      <td>1ff8</td>\n",
       "      <td>[13]</td>\n",
       "    </tr>\n",
       "    <tr>\n",
       "      <th>1</th>\n",
       "      <td></td>\n",
       "      <td>(  1)</td>\n",
       "      <td>|11111111|11111111|1011000</td>\n",
       "      <td>7fffd8</td>\n",
       "      <td>[23]</td>\n",
       "    </tr>\n",
       "    <tr>\n",
       "      <th>2</th>\n",
       "      <td></td>\n",
       "      <td>(  2)</td>\n",
       "      <td>|11111111|11111111|11111110|0010</td>\n",
       "      <td>fffffe2</td>\n",
       "      <td>[28]</td>\n",
       "    </tr>\n",
       "    <tr>\n",
       "      <th>3</th>\n",
       "      <td></td>\n",
       "      <td>(  3)</td>\n",
       "      <td>|11111111|11111111|11111110|0011</td>\n",
       "      <td>fffffe3</td>\n",
       "      <td>[28]</td>\n",
       "    </tr>\n",
       "    <tr>\n",
       "      <th>4</th>\n",
       "      <td></td>\n",
       "      <td>(  4)</td>\n",
       "      <td>|11111111|11111111|11111110|0100</td>\n",
       "      <td>fffffe4</td>\n",
       "      <td>[28]</td>\n",
       "    </tr>\n",
       "    <tr>\n",
       "      <th>...</th>\n",
       "      <td>...</td>\n",
       "      <td>...</td>\n",
       "      <td>...</td>\n",
       "      <td>...</td>\n",
       "      <td>...</td>\n",
       "    </tr>\n",
       "    <tr>\n",
       "      <th>252</th>\n",
       "      <td></td>\n",
       "      <td>(252)</td>\n",
       "      <td>|11111111|11111111|11111101|110</td>\n",
       "      <td>7ffffee</td>\n",
       "      <td>[27]</td>\n",
       "    </tr>\n",
       "    <tr>\n",
       "      <th>253</th>\n",
       "      <td></td>\n",
       "      <td>(253)</td>\n",
       "      <td>|11111111|11111111|11111101|111</td>\n",
       "      <td>7ffffef</td>\n",
       "      <td>[27]</td>\n",
       "    </tr>\n",
       "    <tr>\n",
       "      <th>254</th>\n",
       "      <td></td>\n",
       "      <td>(254)</td>\n",
       "      <td>|11111111|11111111|11111110|000</td>\n",
       "      <td>7fffff0</td>\n",
       "      <td>[27]</td>\n",
       "    </tr>\n",
       "    <tr>\n",
       "      <th>255</th>\n",
       "      <td></td>\n",
       "      <td>(255)</td>\n",
       "      <td>|11111111|11111111|11111011|10</td>\n",
       "      <td>3ffffee</td>\n",
       "      <td>[26]</td>\n",
       "    </tr>\n",
       "    <tr>\n",
       "      <th>256</th>\n",
       "      <td>EOS</td>\n",
       "      <td>(256)</td>\n",
       "      <td>|11111111|11111111|11111111|111111</td>\n",
       "      <td>3fffffff</td>\n",
       "      <td>[30]</td>\n",
       "    </tr>\n",
       "  </tbody>\n",
       "</table>\n",
       "<p>257 rows × 5 columns</p>\n",
       "</div>"
      ],
      "text/plain": [
       "       0      1                                   2         3     4\n",
       "0         (  0)                     |11111111|11000      1ff8  [13]\n",
       "1         (  1)          |11111111|11111111|1011000    7fffd8  [23]\n",
       "2         (  2)    |11111111|11111111|11111110|0010   fffffe2  [28]\n",
       "3         (  3)    |11111111|11111111|11111110|0011   fffffe3  [28]\n",
       "4         (  4)    |11111111|11111111|11111110|0100   fffffe4  [28]\n",
       "..   ...    ...                                 ...       ...   ...\n",
       "252       (252)     |11111111|11111111|11111101|110   7ffffee  [27]\n",
       "253       (253)     |11111111|11111111|11111101|111   7ffffef  [27]\n",
       "254       (254)     |11111111|11111111|11111110|000   7fffff0  [27]\n",
       "255       (255)      |11111111|11111111|11111011|10   3ffffee  [26]\n",
       "256  EOS  (256)  |11111111|11111111|11111111|111111  3fffffff  [30]\n",
       "\n",
       "[257 rows x 5 columns]"
      ]
     },
     "execution_count": 131,
     "metadata": {},
     "output_type": "execute_result"
    }
   ],
   "source": [
    "df"
   ]
  },
  {
   "cell_type": "code",
   "execution_count": null,
   "id": "ccda7b55-61cb-4b41-a00c-96577f9a2163",
   "metadata": {},
   "outputs": [],
   "source": []
  }
 ],
 "metadata": {
  "kernelspec": {
   "display_name": "Python 3 (ipykernel)",
   "language": "python",
   "name": "python3"
  },
  "language_info": {
   "codemirror_mode": {
    "name": "ipython",
    "version": 3
   },
   "file_extension": ".py",
   "mimetype": "text/x-python",
   "name": "python",
   "nbconvert_exporter": "python",
   "pygments_lexer": "ipython3",
   "version": "3.10.12"
  }
 },
 "nbformat": 4,
 "nbformat_minor": 5
}
